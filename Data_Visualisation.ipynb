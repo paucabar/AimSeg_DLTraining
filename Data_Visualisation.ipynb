{
 "cells": [
  {
   "cell_type": "code",
   "execution_count": 2,
   "id": "7d55d1e5",
   "metadata": {},
   "outputs": [
    {
     "name": "stdout",
     "output_type": "stream",
     "text": [
      "Collecting napari\n",
      "  Downloading napari-0.4.16-py3-none-any.whl (2.5 MB)\n",
      "Collecting cachey>=0.2.1\n",
      "  Downloading cachey-0.2.1-py3-none-any.whl (6.4 kB)\n",
      "Requirement already satisfied: toolz>=0.10.0 in c:\\users\\pau\\anaconda3\\lib\\site-packages (from napari) (0.11.2)\n",
      "Requirement already satisfied: tqdm>=4.56.0 in c:\\users\\pau\\anaconda3\\lib\\site-packages (from napari) (4.64.0)\n",
      "Requirement already satisfied: psutil>=5.0 in c:\\users\\pau\\anaconda3\\lib\\site-packages (from napari) (5.8.0)\n",
      "Collecting npe2>=0.3.0\n",
      "  Downloading npe2-0.3.0-py2.py3-none-any.whl (58 kB)\n",
      "Requirement already satisfied: certifi>=2018.1.18 in c:\\users\\pau\\anaconda3\\lib\\site-packages (from napari) (2021.10.8)\n",
      "Collecting pint>=0.17\n",
      "  Downloading Pint-0.19.2.tar.gz (292 kB)\n",
      "  Installing build dependencies: started\n",
      "  Installing build dependencies: finished with status 'done'\n",
      "  Getting requirements to build wheel: started\n",
      "  Getting requirements to build wheel: finished with status 'done'\n",
      "    Preparing wheel metadata: started\n",
      "    Preparing wheel metadata: finished with status 'done'\n",
      "Requirement already satisfied: pandas>=1.3.0 in c:\\users\\pau\\anaconda3\\lib\\site-packages (from napari) (1.4.2)\n",
      "Collecting superqt>=0.2.5\n",
      "  Downloading superqt-0.3.2-py3-none-any.whl (57 kB)\n",
      "Collecting vispy<0.11,>=0.10.0\n",
      "  Downloading vispy-0.10.0-cp39-cp39-win_amd64.whl (1.4 MB)\n",
      "Requirement already satisfied: numpy>=1.18.5 in c:\\users\\pau\\anaconda3\\lib\\site-packages (from napari) (1.21.5)\n",
      "Collecting PyOpenGL>=3.1.0\n",
      "  Downloading PyOpenGL-3.1.6-py3-none-any.whl (2.4 MB)\n",
      "Requirement already satisfied: Pillow!=7.1.0,!=7.1.1 in c:\\users\\pau\\anaconda3\\lib\\site-packages (from napari) (9.0.1)\n",
      "Requirement already satisfied: pygments>=2.4.0 in c:\\users\\pau\\anaconda3\\lib\\site-packages (from napari) (2.11.2)\n",
      "Collecting napari-svg>=0.1.4\n",
      "  Downloading napari_svg-0.1.6-py3-none-any.whl (12 kB)\n",
      "Collecting pydantic>=1.9.0\n",
      "  Downloading pydantic-1.9.1-cp39-cp39-win_amd64.whl (2.0 MB)\n",
      "Requirement already satisfied: dask[array]!=2.28.0,>=2.15.0 in c:\\users\\pau\\anaconda3\\lib\\site-packages (from napari) (2022.2.1)\n",
      "Requirement already satisfied: scikit-image>=0.19.1 in c:\\users\\pau\\anaconda3\\lib\\site-packages (from napari) (0.19.2)\n",
      "Requirement already satisfied: scipy>=1.5.4 in c:\\users\\pau\\anaconda3\\lib\\site-packages (from napari) (1.7.3)\n",
      "Requirement already satisfied: qtpy>=1.7.0 in c:\\users\\pau\\anaconda3\\lib\\site-packages (from napari) (2.0.1)\n",
      "Collecting magicgui>=0.3.6\n",
      "  Downloading magicgui-0.4.0-py2.py3-none-any.whl (98 kB)\n",
      "Requirement already satisfied: PyYAML>=5.1 in c:\\users\\pau\\anaconda3\\lib\\site-packages (from napari) (6.0)\n",
      "Requirement already satisfied: wrapt>=1.11.1 in c:\\users\\pau\\anaconda3\\lib\\site-packages (from napari) (1.12.1)\n",
      "Collecting napari-console>=0.0.4\n",
      "  Downloading napari_console-0.0.4-py3-none-any.whl (7.8 kB)\n",
      "Requirement already satisfied: numpydoc>=0.9.2 in c:\\users\\pau\\anaconda3\\lib\\site-packages (from napari) (1.2)\n",
      "Requirement already satisfied: jsonschema>=3.2.0 in c:\\users\\pau\\anaconda3\\lib\\site-packages (from napari) (4.4.0)\n",
      "Requirement already satisfied: imageio!=2.11.0,>=2.5.0 in c:\\users\\pau\\anaconda3\\lib\\site-packages (from napari) (2.9.0)\n",
      "Requirement already satisfied: typing-extensions in c:\\users\\pau\\anaconda3\\lib\\site-packages (from napari) (4.1.1)\n",
      "Requirement already satisfied: appdirs>=1.4.4 in c:\\users\\pau\\anaconda3\\lib\\site-packages (from napari) (1.4.4)\n",
      "Requirement already satisfied: tifffile>=2020.2.16 in c:\\users\\pau\\anaconda3\\lib\\site-packages (from napari) (2021.7.2)\n",
      "Collecting napari-plugin-engine>=0.1.9\n",
      "  Downloading napari_plugin_engine-0.2.0-py3-none-any.whl (33 kB)\n",
      "Requirement already satisfied: heapdict in c:\\users\\pau\\anaconda3\\lib\\site-packages (from cachey>=0.2.1->napari) (1.0.1)\n",
      "Requirement already satisfied: packaging>=20.0 in c:\\users\\pau\\anaconda3\\lib\\site-packages (from dask[array]!=2.28.0,>=2.15.0->napari) (21.3)\n",
      "Requirement already satisfied: cloudpickle>=1.1.1 in c:\\users\\pau\\anaconda3\\lib\\site-packages (from dask[array]!=2.28.0,>=2.15.0->napari) (2.0.0)\n",
      "Requirement already satisfied: fsspec>=0.6.0 in c:\\users\\pau\\anaconda3\\lib\\site-packages (from dask[array]!=2.28.0,>=2.15.0->napari) (2022.2.0)\n",
      "Requirement already satisfied: partd>=0.3.10 in c:\\users\\pau\\anaconda3\\lib\\site-packages (from dask[array]!=2.28.0,>=2.15.0->napari) (1.2.0)\n",
      "Requirement already satisfied: attrs>=17.4.0 in c:\\users\\pau\\anaconda3\\lib\\site-packages (from jsonschema>=3.2.0->napari) (21.4.0)\n",
      "Requirement already satisfied: pyrsistent!=0.17.0,!=0.17.1,!=0.17.2,>=0.14.0 in c:\\users\\pau\\anaconda3\\lib\\site-packages (from jsonschema>=3.2.0->napari) (0.18.0)\n",
      "Collecting psygnal>=0.3.0\n",
      "  Downloading psygnal-0.3.5-cp39-cp39-win_amd64.whl (644 kB)\n",
      "Collecting docstring-parser\n",
      "  Downloading docstring_parser-0.14.1-py3-none-any.whl (33 kB)\n",
      "Requirement already satisfied: ipykernel>=5.2.0 in c:\\users\\pau\\anaconda3\\lib\\site-packages (from napari-console>=0.0.4->napari) (6.9.1)\n",
      "Requirement already satisfied: qtconsole!=4.7.6,>=4.5.1 in c:\\users\\pau\\anaconda3\\lib\\site-packages (from napari-console>=0.0.4->napari) (5.3.0)\n",
      "Requirement already satisfied: IPython>=7.7.0 in c:\\users\\pau\\anaconda3\\lib\\site-packages (from napari-console>=0.0.4->napari) (8.2.0)\n",
      "Requirement already satisfied: tornado<7.0,>=4.2 in c:\\users\\pau\\anaconda3\\lib\\site-packages (from ipykernel>=5.2.0->napari-console>=0.0.4->napari) (6.1)\n",
      "Requirement already satisfied: matplotlib-inline<0.2.0,>=0.1.0 in c:\\users\\pau\\anaconda3\\lib\\site-packages (from ipykernel>=5.2.0->napari-console>=0.0.4->napari) (0.1.2)\n",
      "Requirement already satisfied: debugpy<2.0,>=1.0.0 in c:\\users\\pau\\anaconda3\\lib\\site-packages (from ipykernel>=5.2.0->napari-console>=0.0.4->napari) (1.5.1)\n",
      "Requirement already satisfied: jupyter-client<8.0 in c:\\users\\pau\\anaconda3\\lib\\site-packages (from ipykernel>=5.2.0->napari-console>=0.0.4->napari) (6.1.12)\n",
      "Requirement already satisfied: traitlets<6.0,>=5.1.0 in c:\\users\\pau\\anaconda3\\lib\\site-packages (from ipykernel>=5.2.0->napari-console>=0.0.4->napari) (5.1.1)\n",
      "Requirement already satisfied: nest-asyncio in c:\\users\\pau\\anaconda3\\lib\\site-packages (from ipykernel>=5.2.0->napari-console>=0.0.4->napari) (1.5.5)\n",
      "Requirement already satisfied: jedi>=0.16 in c:\\users\\pau\\anaconda3\\lib\\site-packages (from IPython>=7.7.0->napari-console>=0.0.4->napari) (0.18.1)\n",
      "Requirement already satisfied: backcall in c:\\users\\pau\\anaconda3\\lib\\site-packages (from IPython>=7.7.0->napari-console>=0.0.4->napari) (0.2.0)\n",
      "Requirement already satisfied: setuptools>=18.5 in c:\\users\\pau\\anaconda3\\lib\\site-packages (from IPython>=7.7.0->napari-console>=0.0.4->napari) (61.2.0)\n",
      "Requirement already satisfied: decorator in c:\\users\\pau\\anaconda3\\lib\\site-packages (from IPython>=7.7.0->napari-console>=0.0.4->napari) (5.1.1)\n",
      "Requirement already satisfied: colorama in c:\\users\\pau\\anaconda3\\lib\\site-packages (from IPython>=7.7.0->napari-console>=0.0.4->napari) (0.4.4)\n",
      "Requirement already satisfied: stack-data in c:\\users\\pau\\anaconda3\\lib\\site-packages (from IPython>=7.7.0->napari-console>=0.0.4->napari) (0.2.0)\n",
      "Requirement already satisfied: pickleshare in c:\\users\\pau\\anaconda3\\lib\\site-packages (from IPython>=7.7.0->napari-console>=0.0.4->napari) (0.7.5)\n",
      "Requirement already satisfied: prompt-toolkit!=3.0.0,!=3.0.1,<3.1.0,>=2.0.0 in c:\\users\\pau\\anaconda3\\lib\\site-packages (from IPython>=7.7.0->napari-console>=0.0.4->napari) (3.0.20)\n",
      "Requirement already satisfied: parso<0.9.0,>=0.8.0 in c:\\users\\pau\\anaconda3\\lib\\site-packages (from jedi>=0.16->IPython>=7.7.0->napari-console>=0.0.4->napari) (0.8.3)\n",
      "Requirement already satisfied: pyzmq>=13 in c:\\users\\pau\\anaconda3\\lib\\site-packages (from jupyter-client<8.0->ipykernel>=5.2.0->napari-console>=0.0.4->napari) (22.3.0)\n",
      "Requirement already satisfied: jupyter-core>=4.6.0 in c:\\users\\pau\\anaconda3\\lib\\site-packages (from jupyter-client<8.0->ipykernel>=5.2.0->napari-console>=0.0.4->napari) (4.9.2)\n",
      "Requirement already satisfied: python-dateutil>=2.1 in c:\\users\\pau\\anaconda3\\lib\\site-packages (from jupyter-client<8.0->ipykernel>=5.2.0->napari-console>=0.0.4->napari) (2.8.2)\n",
      "Requirement already satisfied: pywin32>=1.0 in c:\\users\\pau\\anaconda3\\lib\\site-packages (from jupyter-core>=4.6.0->jupyter-client<8.0->ipykernel>=5.2.0->napari-console>=0.0.4->napari) (302)\n",
      "Collecting pytomlpp\n",
      "  Downloading pytomlpp-1.0.11-cp39-cp39-win_amd64.whl (186 kB)\n",
      "Collecting typer\n",
      "  Downloading typer-0.4.1-py3-none-any.whl (27 kB)\n",
      "Requirement already satisfied: sphinx>=1.8 in c:\\users\\pau\\anaconda3\\lib\\site-packages (from numpydoc>=0.9.2->napari) (4.4.0)\n",
      "Requirement already satisfied: Jinja2>=2.10 in c:\\users\\pau\\anaconda3\\lib\\site-packages (from numpydoc>=0.9.2->napari) (2.11.3)\n",
      "Requirement already satisfied: MarkupSafe>=0.23 in c:\\users\\pau\\anaconda3\\lib\\site-packages (from Jinja2>=2.10->numpydoc>=0.9.2->napari) (2.0.1)\n",
      "Requirement already satisfied: pyparsing!=3.0.5,>=2.0.2 in c:\\users\\pau\\anaconda3\\lib\\site-packages (from packaging>=20.0->dask[array]!=2.28.0,>=2.15.0->napari) (3.0.4)\n",
      "Requirement already satisfied: pytz>=2020.1 in c:\\users\\pau\\anaconda3\\lib\\site-packages (from pandas>=1.3.0->napari) (2021.3)\n",
      "Requirement already satisfied: locket in c:\\users\\pau\\anaconda3\\lib\\site-packages (from partd>=0.3.10->dask[array]!=2.28.0,>=2.15.0->napari) (0.2.1)\n",
      "Requirement already satisfied: wcwidth in c:\\users\\pau\\anaconda3\\lib\\site-packages (from prompt-toolkit!=3.0.0,!=3.0.1,<3.1.0,>=2.0.0->IPython>=7.7.0->napari-console>=0.0.4->napari) (0.2.5)\n",
      "Requirement already satisfied: six>=1.5 in c:\\users\\pau\\anaconda3\\lib\\site-packages (from python-dateutil>=2.1->jupyter-client<8.0->ipykernel>=5.2.0->napari-console>=0.0.4->napari) (1.16.0)\n",
      "Requirement already satisfied: ipython-genutils in c:\\users\\pau\\anaconda3\\lib\\site-packages (from qtconsole!=4.7.6,>=4.5.1->napari-console>=0.0.4->napari) (0.2.0)\n",
      "Requirement already satisfied: PyWavelets>=1.1.1 in c:\\users\\pau\\anaconda3\\lib\\site-packages (from scikit-image>=0.19.1->napari) (1.3.0)\n",
      "Requirement already satisfied: networkx>=2.2 in c:\\users\\pau\\anaconda3\\lib\\site-packages (from scikit-image>=0.19.1->napari) (2.7.1)\n",
      "Requirement already satisfied: imagesize in c:\\users\\pau\\anaconda3\\lib\\site-packages (from sphinx>=1.8->numpydoc>=0.9.2->napari) (1.3.0)\n",
      "Requirement already satisfied: snowballstemmer>=1.1 in c:\\users\\pau\\anaconda3\\lib\\site-packages (from sphinx>=1.8->numpydoc>=0.9.2->napari) (2.2.0)\n",
      "Requirement already satisfied: importlib-metadata>=4.4 in c:\\users\\pau\\anaconda3\\lib\\site-packages (from sphinx>=1.8->numpydoc>=0.9.2->napari) (4.11.3)\n",
      "Requirement already satisfied: requests>=2.5.0 in c:\\users\\pau\\anaconda3\\lib\\site-packages (from sphinx>=1.8->numpydoc>=0.9.2->napari) (2.27.1)\n",
      "Requirement already satisfied: babel>=1.3 in c:\\users\\pau\\anaconda3\\lib\\site-packages (from sphinx>=1.8->numpydoc>=0.9.2->napari) (2.9.1)\n",
      "Requirement already satisfied: sphinxcontrib-jsmath in c:\\users\\pau\\anaconda3\\lib\\site-packages (from sphinx>=1.8->numpydoc>=0.9.2->napari) (1.0.1)\n",
      "Requirement already satisfied: sphinxcontrib-serializinghtml>=1.1.5 in c:\\users\\pau\\anaconda3\\lib\\site-packages (from sphinx>=1.8->numpydoc>=0.9.2->napari) (1.1.5)\n",
      "Requirement already satisfied: sphinxcontrib-htmlhelp>=2.0.0 in c:\\users\\pau\\anaconda3\\lib\\site-packages (from sphinx>=1.8->numpydoc>=0.9.2->napari) (2.0.0)\n",
      "Requirement already satisfied: docutils<0.18,>=0.14 in c:\\users\\pau\\anaconda3\\lib\\site-packages (from sphinx>=1.8->numpydoc>=0.9.2->napari) (0.17.1)\n",
      "Requirement already satisfied: alabaster<0.8,>=0.7 in c:\\users\\pau\\anaconda3\\lib\\site-packages (from sphinx>=1.8->numpydoc>=0.9.2->napari) (0.7.12)\n",
      "Requirement already satisfied: sphinxcontrib-applehelp in c:\\users\\pau\\anaconda3\\lib\\site-packages (from sphinx>=1.8->numpydoc>=0.9.2->napari) (1.0.2)\n",
      "Requirement already satisfied: sphinxcontrib-qthelp in c:\\users\\pau\\anaconda3\\lib\\site-packages (from sphinx>=1.8->numpydoc>=0.9.2->napari) (1.0.3)\n",
      "Requirement already satisfied: sphinxcontrib-devhelp in c:\\users\\pau\\anaconda3\\lib\\site-packages (from sphinx>=1.8->numpydoc>=0.9.2->napari) (1.0.2)\n",
      "Requirement already satisfied: zipp>=0.5 in c:\\users\\pau\\anaconda3\\lib\\site-packages (from importlib-metadata>=4.4->sphinx>=1.8->numpydoc>=0.9.2->napari) (3.7.0)\n",
      "Requirement already satisfied: idna<4,>=2.5 in c:\\users\\pau\\anaconda3\\lib\\site-packages (from requests>=2.5.0->sphinx>=1.8->numpydoc>=0.9.2->napari) (3.3)\n",
      "Requirement already satisfied: charset-normalizer~=2.0.0 in c:\\users\\pau\\anaconda3\\lib\\site-packages (from requests>=2.5.0->sphinx>=1.8->numpydoc>=0.9.2->napari) (2.0.4)\n",
      "Requirement already satisfied: urllib3<1.27,>=1.21.1 in c:\\users\\pau\\anaconda3\\lib\\site-packages (from requests>=2.5.0->sphinx>=1.8->numpydoc>=0.9.2->napari) (1.26.9)\n",
      "Requirement already satisfied: kiwisolver in c:\\users\\pau\\anaconda3\\lib\\site-packages (from vispy<0.11,>=0.10.0->napari) (1.3.2)\n",
      "Collecting freetype-py\n",
      "  Downloading freetype_py-2.3.0-py3-none-win_amd64.whl (772 kB)\n",
      "Collecting hsluv\n",
      "  Downloading hsluv-5.0.3-py2.py3-none-any.whl (5.1 kB)\n",
      "Requirement already satisfied: asttokens in c:\\users\\pau\\anaconda3\\lib\\site-packages (from stack-data->IPython>=7.7.0->napari-console>=0.0.4->napari) (2.0.5)\n",
      "Requirement already satisfied: pure-eval in c:\\users\\pau\\anaconda3\\lib\\site-packages (from stack-data->IPython>=7.7.0->napari-console>=0.0.4->napari) (0.2.2)\n",
      "Requirement already satisfied: executing in c:\\users\\pau\\anaconda3\\lib\\site-packages (from stack-data->IPython>=7.7.0->napari-console>=0.0.4->napari) (0.8.3)\n",
      "Requirement already satisfied: click<9.0.0,>=7.1.1 in c:\\users\\pau\\anaconda3\\lib\\site-packages (from typer->npe2>=0.3.0->napari) (8.0.4)\n",
      "Building wheels for collected packages: pint\n",
      "  Building wheel for pint (PEP 517): started\n",
      "  Building wheel for pint (PEP 517): finished with status 'done'\n",
      "  Created wheel for pint: filename=Pint-0.19.2-py3-none-any.whl size=231016 sha256=e7a65b27392d571849e37526facb8864b414f0ac1354f862455048732df57b1e\n",
      "  Stored in directory: c:\\users\\pau\\appdata\\local\\pip\\cache\\wheels\\4e\\e3\\93\\6f6e5d37c9887117c3aede19f309becb52e0b461eddbb00270\n",
      "Successfully built pint\n",
      "Installing collected packages: psygnal, hsluv, freetype-py, docstring-parser, vispy, typer, pytomlpp, pydantic, napari-plugin-engine, magicgui, superqt, PyOpenGL, pint, npe2, napari-svg, napari-console, cachey, napari\n",
      "Successfully installed PyOpenGL-3.1.6 cachey-0.2.1 docstring-parser-0.14.1 freetype-py-2.3.0 hsluv-5.0.3 magicgui-0.4.0 napari-0.4.16 napari-console-0.0.4 napari-plugin-engine-0.2.0 napari-svg-0.1.6 npe2-0.3.0 pint-0.19.2 psygnal-0.3.5 pydantic-1.9.1 pytomlpp-1.0.11 superqt-0.3.2 typer-0.4.1 vispy-0.10.0\n"
     ]
    }
   ],
   "source": [
    "!pip install napari"
   ]
  },
  {
   "cell_type": "code",
   "execution_count": 1,
   "id": "ae2834e4-fe36-4670-aa92-d575ef37e59e",
   "metadata": {},
   "outputs": [],
   "source": [
    "%gui qt"
   ]
  },
  {
   "cell_type": "code",
   "execution_count": 2,
   "id": "2ebfdbcc",
   "metadata": {},
   "outputs": [],
   "source": [
    "import argparse\n",
    "import os\n",
    "from glob import glob\n",
    "\n",
    "import imageio\n",
    "import napari"
   ]
  },
  {
   "cell_type": "code",
   "execution_count": 16,
   "id": "00faf8d8",
   "metadata": {},
   "outputs": [],
   "source": [
    "def visualize_data(root):\n",
    "    image_paths = glob(os.path.join(root, \"raw\", \"*.tif\"))\n",
    "    image_paths.sort()\n",
    "    semantic_paths = glob(os.path.join(root, \"semantic_labels\", \"*.png\"))\n",
    "    semantic_paths.sort()\n",
    "\n",
    "    for im, sem in zip(image_paths, semantic_paths):\n",
    "        image = imageio.imread(im)\n",
    "        semantic_labels = imageio.imread(sem)\n",
    "        #assert semantic_labels.shape == image.shape\n",
    "        print(os.path.basename(im).split('.')[0], \"Shape:\", image.shape, semantic_labels.shape)\n",
    "\n",
    "        viewer = napari.Viewer()\n",
    "        viewer.add_image(image)\n",
    "        viewer.add_labels(semantic_labels)\n",
    "        napari.run()"
   ]
  },
  {
   "cell_type": "code",
   "execution_count": 4,
   "id": "ea01e8c4",
   "metadata": {
    "scrolled": true
   },
   "outputs": [
    {
     "name": "stdout",
     "output_type": "stream",
     "text": [
      "C:\\Users\\Pau\\Desktop\\AimSeg_Training_Classifier\n"
     ]
    }
   ],
   "source": [
    "jn_path = os.path.abspath(\"Data_Visualisation.ipynb\")\n",
    "path = os.path.dirname(jn_path)\n",
    "print(path)"
   ]
  },
  {
   "cell_type": "code",
   "execution_count": 15,
   "id": "50386c7c-036f-4eb5-98b3-24dc5dc4c989",
   "metadata": {
    "tags": []
   },
   "outputs": [
    {
     "name": "stdout",
     "output_type": "stream",
     "text": [
      "4946_3_1_72_18_0003 Shape: (4095, 4096) (4095, 4096, 4)\n",
      "7_EM1_3_10D_N_P_0002 Shape: (4094, 4094) (4094, 4094, 4)\n",
      "7_EM1_3_10D_N_P_0004 Shape: (4096, 4096) (4096, 4096, 4)\n",
      "8_E72_18_0014 Shape: (4096, 4096) (4096, 4096, 4)\n",
      "E72_21_0003 Shape: (4096, 4096) (4096, 4096, 4)\n",
      "e72_33_0008 Shape: (4096, 4096) (4096, 4096, 4)\n",
      "e72_33_0014 Shape: (4096, 4096) (4096, 4096, 4)\n",
      "e72_33_0018 Shape: (4096, 4096) (4096, 4096, 4)\n",
      "e72_33_0020 Shape: (4096, 4096) (4096, 4096, 4)\n",
      "e72_33_0021 Shape: (4096, 4096) (4096, 4096, 4)\n"
     ]
    }
   ],
   "source": [
    "visualize_data(path)"
   ]
  },
  {
   "cell_type": "code",
   "execution_count": 6,
   "id": "dd34d961",
   "metadata": {},
   "outputs": [],
   "source": [
    "def main():\n",
    "    parser = argparse.ArgumentParser()\n",
    "    parser.add_argument(\"-r\", \"--root\")\n",
    "    args = parser.parse_args()\n",
    "    visualize_data(args.root)"
   ]
  },
  {
   "cell_type": "code",
   "execution_count": 7,
   "id": "87c45872",
   "metadata": {
    "scrolled": true
   },
   "outputs": [
    {
     "name": "stderr",
     "output_type": "stream",
     "text": [
      "usage: ipykernel_launcher.py [-h] [-r ROOT]\n",
      "ipykernel_launcher.py: error: unrecognized arguments: -f C:\\Users\\Pau\\AppData\\Roaming\\jupyter\\runtime\\kernel-8ee15653-6b92-4f2d-98a9-fe4305519e7a.json\n"
     ]
    },
    {
     "ename": "SystemExit",
     "evalue": "2",
     "output_type": "error",
     "traceback": [
      "An exception has occurred, use %tb to see the full traceback.\n",
      "\u001b[1;31mSystemExit\u001b[0m\u001b[1;31m:\u001b[0m 2\n"
     ]
    },
    {
     "name": "stderr",
     "output_type": "stream",
     "text": [
      "C:\\Users\\Pau\\anaconda3\\lib\\site-packages\\IPython\\core\\interactiveshell.py:3377: UserWarning: To exit: use 'exit', 'quit', or Ctrl-D.\n",
      "  warn(\"To exit: use 'exit', 'quit', or Ctrl-D.\", stacklevel=1)\n"
     ]
    }
   ],
   "source": [
    "if __name__ == \"__main__\":\n",
    "    main()"
   ]
  }
 ],
 "metadata": {
  "kernelspec": {
   "display_name": "Python 3 (ipykernel)",
   "language": "python",
   "name": "python3"
  },
  "language_info": {
   "codemirror_mode": {
    "name": "ipython",
    "version": 3
   },
   "file_extension": ".py",
   "mimetype": "text/x-python",
   "name": "python",
   "nbconvert_exporter": "python",
   "pygments_lexer": "ipython3",
   "version": "3.9.12"
  }
 },
 "nbformat": 4,
 "nbformat_minor": 5
}
