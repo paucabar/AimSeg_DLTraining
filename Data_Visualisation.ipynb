{
 "cells": [
  {
   "cell_type": "code",
   "execution_count": null,
   "id": "7d55d1e5",
   "metadata": {},
   "outputs": [],
   "source": [
    "!pip install napari"
   ]
  },
  {
   "cell_type": "code",
   "execution_count": null,
   "id": "ae2834e4-fe36-4670-aa92-d575ef37e59e",
   "metadata": {},
   "outputs": [],
   "source": [
    "%gui qt"
   ]
  },
  {
   "cell_type": "code",
   "execution_count": null,
   "id": "2ebfdbcc",
   "metadata": {},
   "outputs": [],
   "source": [
    "import os\n",
    "from glob import glob\n",
    "\n",
    "import imageio\n",
    "import napari\n",
    "#from matplotlib import pyplot as plt"
   ]
  },
  {
   "cell_type": "code",
   "execution_count": null,
   "id": "00faf8d8",
   "metadata": {},
   "outputs": [],
   "source": [
    "def visualize_data(root):\n",
    "    image_paths = glob(os.path.join(root, \"raw\", \"*.tif\"))\n",
    "    image_paths.sort()\n",
    "    semantic_paths = glob(os.path.join(root, \"semantic_labels\", \"*.png\"))\n",
    "    semantic_paths.sort()\n",
    "\n",
    "    for im, sem in zip(image_paths, semantic_paths):\n",
    "        image = imageio.imread(im)\n",
    "        semantic_labels = imageio.imread(sem, pilmode = 'P') # use pilmode to import as 8-bit (already mapped)\n",
    "        assert semantic_labels.shape == image.shape\n",
    "        print(os.path.basename(im).split('.')[0], \"Shape:\", image.shape, semantic_labels.shape)\n",
    "        #ax = plt.hist(semantic_labels.ravel(), bins = 4) # check that the labels are imported properly (0,1,2,3)\n",
    "        #plt.show()\n",
    "        \n",
    "        viewer = napari.Viewer()\n",
    "        viewer.add_image(image)\n",
    "        viewer.add_labels(semantic_labels)\n",
    "        napari.run()"
   ]
  },
  {
   "cell_type": "code",
   "execution_count": null,
   "id": "ea01e8c4",
   "metadata": {
    "scrolled": true
   },
   "outputs": [],
   "source": [
    "jn_path = os.path.abspath(\"Data_Visualisation.ipynb\")\n",
    "path = os.path.dirname(jn_path)\n",
    "print(path)"
   ]
  },
  {
   "cell_type": "code",
   "execution_count": null,
   "id": "50386c7c-036f-4eb5-98b3-24dc5dc4c989",
   "metadata": {
    "tags": []
   },
   "outputs": [],
   "source": [
    "visualize_data(path)"
   ]
  }
 ],
 "metadata": {
  "kernelspec": {
   "display_name": "Python 3 (ipykernel)",
   "language": "python",
   "name": "python3"
  },
  "language_info": {
   "codemirror_mode": {
    "name": "ipython",
    "version": 3
   },
   "file_extension": ".py",
   "mimetype": "text/x-python",
   "name": "python",
   "nbconvert_exporter": "python",
   "pygments_lexer": "ipython3",
   "version": "3.9.12"
  }
 },
 "nbformat": 4,
 "nbformat_minor": 5
}
