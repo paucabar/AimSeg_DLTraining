{
  "nbformat": 4,
  "nbformat_minor": 0,
  "metadata": {
    "colab": {
      "name": "Data Visualisation.ipynb",
      "provenance": [],
      "collapsed_sections": []
    },
    "kernelspec": {
      "name": "python3",
      "display_name": "Python 3"
    },
    "language_info": {
      "name": "python"
    }
  },
  "cells": [
    {
      "cell_type": "code",
      "source": [
        "from google.colab import drive\n",
        "drive.mount('/content/grive')"
      ],
      "metadata": {
        "colab": {
          "base_uri": "https://localhost:8080/"
        },
        "id": "xVcMagiSmfHC",
        "outputId": "74ce27ee-e6a0-49d4-e1fb-59b3689f484d"
      },
      "execution_count": 1,
      "outputs": [
        {
          "output_type": "stream",
          "name": "stdout",
          "text": [
            "Mounted at /content/grive\n"
          ]
        }
      ]
    },
    {
      "cell_type": "code",
      "source": [
        "# Path to the training images\n",
        "train_path = '/content/grive/MyDrive/AimSeg_Training_Data/raw/'\n",
        "\n",
        "# Read the list of file names\n",
        "train_filenames = [x for x in os.listdir( train_path ) if x.endswith(\".tif\")]\n",
        "\n",
        "print( 'Images loaded: ' + str( len(train_filenames)) )"
      ],
      "metadata": {
        "colab": {
          "base_uri": "https://localhost:8080/"
        },
        "id": "kW7cm_ldvWNK",
        "outputId": "9d616278-7093-4670-9166-75052af5c4b9"
      },
      "execution_count": 6,
      "outputs": [
        {
          "output_type": "stream",
          "name": "stdout",
          "text": [
            "Images loaded: 10\n"
          ]
        }
      ]
    },
    {
      "cell_type": "code",
      "source": [
        "from skimage.util import img_as_float32\n",
        "from skimage import io\n",
        "from matplotlib import pyplot as plt\n",
        "\n",
        "# read training images\n",
        "train_img = [ img_as_float32( io.imread( train_path + x ) ) for x in train_filenames ]\n",
        "\n",
        "# display first image\n",
        "plt.imshow( train_img[0], 'gray' )\n",
        "plt.title( 'Full-size training image' )"
      ],
      "metadata": {
        "id": "dX5-sIQqvmyJ"
      },
      "execution_count": null,
      "outputs": []
    },
    {
      "cell_type": "code",
      "execution_count": 2,
      "metadata": {
        "id": "CD5JO70ip57Z"
      },
      "outputs": [],
      "source": [
        "import os\n",
        "from glob import glob\n",
        "from skimage.util import img_as_float32\n",
        "from skimage import io\n",
        "from matplotlib import pyplot as plt"
      ]
    },
    {
      "cell_type": "code",
      "source": [
        "def show_two_images(title, image1, image2):\n",
        "    f, axarr = plt.subplots(1, 2)   # we need two images in a row\n",
        "    f.suptitle(title, fontsize=12)\n",
        "    axarr[0].set_title('image')\n",
        "    axarr[0].imshow(image1, cmap='gray')\n",
        "    axarr[1].set_title('labels')\n",
        "    axarr[1].imshow(image2)\n",
        "    #_ = [ax.axis('off') for ax in axarr]   # remove the axis ticks\n",
        "    plt.show()"
      ],
      "metadata": {
        "id": "UAJs4KPV-O-l"
      },
      "execution_count": 35,
      "outputs": []
    },
    {
      "cell_type": "code",
      "source": [
        "def visualize_data(root):\n",
        "    image_paths = glob(os.path.join(root, \"raw\", \"*.tif\"))\n",
        "    image_paths.sort()\n",
        "    semantic_paths = glob(os.path.join(root, \"semantic_labels\", \"*.png\"))\n",
        "    semantic_paths.sort()\n",
        "\n",
        "    for im, sem in zip(image_paths, semantic_paths):\n",
        "        image = img_as_float32(io.imread(im))\n",
        "        semantic_labels = io.imread(sem, pilmode='P') # use pilmode to import as 8-bit (already mapped)\n",
        "        assert semantic_labels.shape == image.shape\n",
        "        show_two_images(os.path.basename(im).split('.')[0], image, semantic_labels)\n",
        "        print(\"Shape:\", image.shape, semantic_labels.shape)\n",
        "        #ax = plt.hist(semantic_labels.ravel(), bins = 4) # check that the labels are imported properly (0,1,2,3)\n",
        "        #plt.show()\n",
        "        \n",
        "        # display first image\n",
        "        #plt.imshow( image, cmap='gray' )\n",
        "        #plt.title( os.path.basename(im).split('.')[0] )\n",
        "            \n",
        "        # display first label\n",
        "        #plt.imshow( semantic_labels, cmap='nipy_spectral' )\n",
        "        #plt.title( os.path.basename(im).split('.')[0] )"
      ],
      "metadata": {
        "id": "Yks3beNTqH6L"
      },
      "execution_count": 40,
      "outputs": []
    },
    {
      "cell_type": "code",
      "source": [
        "root_path = \"/content/grive/MyDrive/AimSeg_Training_Data\"\n",
        "visualize_data(root_path)"
      ],
      "metadata": {
        "id": "6GNK9WtP8P1A"
      },
      "execution_count": null,
      "outputs": []
    }
  ]
}